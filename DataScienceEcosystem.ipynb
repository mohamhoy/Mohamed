{
 "cells": [
  {
   "cell_type": "markdown",
   "id": "0664f171-b817-4768-9aee-bf585fa68f45",
   "metadata": {},
   "source": [
    "# Data Science Tools and Ecosystem"
   ]
  },
  {
   "cell_type": "markdown",
   "id": "84098a12-25b7-491e-bb91-72ecb8c1bd9c",
   "metadata": {},
   "source": [
    "In this notebook, Data Science Tools and Ecosystem are summarized."
   ]
  },
  {
   "cell_type": "markdown",
   "id": "444acfcd-240f-4676-9903-7a3cf8e08467",
   "metadata": {},
   "source": [
    "**Objectives:**\n",
    "\n",
    "- List popular languages for Data Science.\n",
    "- Identify commonly used data science libraries.\n",
    "- Understand basic arithmetic expressions in Python.\n",
    "- Learn to convert units (e.g., minutes to hours).\n",
    "- Explore open source tools for data science development."
   ]
  },
  {
   "cell_type": "markdown",
   "id": "347bf8d2-bb9e-4b9b-a31f-49a2468528bc",
   "metadata": {},
   "source": [
    "Some of the popular languages that Data Scientists use are:\n",
    "\n",
    "1. Python\n",
    "2. R\n",
    "3. SQL"
   ]
  },
  {
   "cell_type": "markdown",
   "id": "f6e10ecc-08a9-43b6-8d28-6c90aa6d8494",
   "metadata": {},
   "source": [
    "Some of the commonly used libraries used by Data Scientists include:\n",
    "1. Pandas\n",
    "2. NumPy\n",
    "3. Matplotlib"
   ]
  },
  {
   "cell_type": "markdown",
   "id": "f5194c39-a53e-4a74-a728-d6c0b11f5bb0",
   "metadata": {},
   "source": [
    "| Data Science Tools   |\n",
    "|---------------------|\n",
    "| Jupyter Notebook    |\n",
    "| RStudio             |\n",
    "| Apache Spark        |"
   ]
  },
  {
   "cell_type": "markdown",
   "id": "32e64b8b-3bf2-452e-97a9-5904d9011382",
   "metadata": {},
   "source": [
    "# Below are a few examples of evaluating arithmetic expressions in Python."
   ]
  },
  {
   "cell_type": "code",
   "execution_count": 1,
   "id": "cab1cde1-0b00-47b0-8883-216db0bdd018",
   "metadata": {},
   "outputs": [
    {
     "data": {
      "text/plain": [
       "17"
      ]
     },
     "execution_count": 1,
     "metadata": {},
     "output_type": "execute_result"
    }
   ],
   "source": [
    "# This a simple arithmetic expression to mutiply then add integers\n",
    "(3*4)+5"
   ]
  },
  {
   "cell_type": "code",
   "execution_count": 2,
   "id": "e61304ba-2e1a-4bb4-989d-f4fd4a648b62",
   "metadata": {},
   "outputs": [
    {
     "data": {
      "text/plain": [
       "3.3333333333333335"
      ]
     },
     "execution_count": 2,
     "metadata": {},
     "output_type": "execute_result"
    }
   ],
   "source": [
    "# This will convert 200 minutes to hours by diving by 60\n",
    "200 / 60"
   ]
  },
  {
   "cell_type": "markdown",
   "id": "478dfa5f-6f55-44e9-9828-83d2a33ea1aa",
   "metadata": {},
   "source": [
    "## Author\n",
    "\n",
    "Mohamed Mohy"
   ]
  },
  {
   "cell_type": "code",
   "execution_count": null,
   "id": "dde3a094-8e08-4254-85ab-6aeab12e9c3f",
   "metadata": {},
   "outputs": [],
   "source": []
  }
 ],
 "metadata": {
  "kernelspec": {
   "display_name": "Python 3 (ipykernel)",
   "language": "python",
   "name": "python3"
  },
  "language_info": {
   "codemirror_mode": {
    "name": "ipython",
    "version": 3
   },
   "file_extension": ".py",
   "mimetype": "text/x-python",
   "name": "python",
   "nbconvert_exporter": "python",
   "pygments_lexer": "ipython3",
   "version": "3.13.5"
  }
 },
 "nbformat": 4,
 "nbformat_minor": 5
}
